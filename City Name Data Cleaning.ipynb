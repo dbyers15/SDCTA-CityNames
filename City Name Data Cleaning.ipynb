{
 "cells": [
  {
   "cell_type": "code",
   "execution_count": 11,
   "metadata": {},
   "outputs": [
    {
     "data": {
      "text/html": [
       "<div>\n",
       "<style scoped>\n",
       "    .dataframe tbody tr th:only-of-type {\n",
       "        vertical-align: middle;\n",
       "    }\n",
       "\n",
       "    .dataframe tbody tr th {\n",
       "        vertical-align: top;\n",
       "    }\n",
       "\n",
       "    .dataframe thead th {\n",
       "        text-align: right;\n",
       "    }\n",
       "</style>\n",
       "<table border=\"1\" class=\"dataframe\">\n",
       "  <thead>\n",
       "    <tr style=\"text-align: right;\">\n",
       "      <th></th>\n",
       "      <th>Name</th>\n",
       "      <th>CREATEDBY</th>\n",
       "      <th>CREATEDDAT</th>\n",
       "      <th>UPDATEDBY</th>\n",
       "      <th>UPDATEDATE</th>\n",
       "      <th>GlobalID</th>\n",
       "      <th>CODE</th>\n",
       "      <th>DOCYR</th>\n",
       "      <th>DOCNO</th>\n",
       "      <th>DOCDATE</th>\n",
       "      <th>SUBJECT</th>\n",
       "      <th>geometry</th>\n",
       "    </tr>\n",
       "  </thead>\n",
       "  <tbody>\n",
       "    <tr>\n",
       "      <th>0</th>\n",
       "      <td>S.D. COUNTY</td>\n",
       "      <td>jack_quartic</td>\n",
       "      <td>2023-02-23</td>\n",
       "      <td>jack_quartic</td>\n",
       "      <td>2023-02-23</td>\n",
       "      <td>{E234DEDF-422D-47A8-9675-0E2DCD28472C}</td>\n",
       "      <td>CN</td>\n",
       "      <td>0</td>\n",
       "      <td>NaN</td>\n",
       "      <td>NaN</td>\n",
       "      <td>NaN</td>\n",
       "      <td>POLYGON Z ((6306225.532 2001183.889 0.000, 630...</td>\n",
       "    </tr>\n",
       "    <tr>\n",
       "      <th>1</th>\n",
       "      <td>S.D. COUNTY</td>\n",
       "      <td>jack_quartic</td>\n",
       "      <td>2023-02-23</td>\n",
       "      <td>jack_quartic</td>\n",
       "      <td>2023-02-23</td>\n",
       "      <td>{ED8EFB65-5A1F-49DB-B2C0-1019E1E0C7A2}</td>\n",
       "      <td>CN</td>\n",
       "      <td>0</td>\n",
       "      <td>NaN</td>\n",
       "      <td>NaN</td>\n",
       "      <td>NaN</td>\n",
       "      <td>POLYGON Z ((6312037.154 1980895.609 0.000, 631...</td>\n",
       "    </tr>\n",
       "    <tr>\n",
       "      <th>2</th>\n",
       "      <td>S.D. COUNTY</td>\n",
       "      <td>jack_quartic</td>\n",
       "      <td>2023-02-23</td>\n",
       "      <td>jack_quartic</td>\n",
       "      <td>2023-02-23</td>\n",
       "      <td>{9EA26A12-FAE2-4864-A12C-103E725080EF}</td>\n",
       "      <td>CN</td>\n",
       "      <td>0</td>\n",
       "      <td>NaN</td>\n",
       "      <td>NaN</td>\n",
       "      <td>NaN</td>\n",
       "      <td>POLYGON Z ((6307940.840 2003069.592 0.000, 630...</td>\n",
       "    </tr>\n",
       "    <tr>\n",
       "      <th>3</th>\n",
       "      <td>S.D. COUNTY</td>\n",
       "      <td>jack_quartic</td>\n",
       "      <td>2023-02-23</td>\n",
       "      <td>jack_quartic</td>\n",
       "      <td>2023-02-23</td>\n",
       "      <td>{56545335-9C58-457B-9BB0-12E52EC467E1}</td>\n",
       "      <td>CN</td>\n",
       "      <td>0</td>\n",
       "      <td>NaN</td>\n",
       "      <td>NaN</td>\n",
       "      <td>NaN</td>\n",
       "      <td>POLYGON Z ((6299707.002 2000270.162 0.000, 629...</td>\n",
       "    </tr>\n",
       "    <tr>\n",
       "      <th>4</th>\n",
       "      <td>CHULA VISTA</td>\n",
       "      <td>jack_quartic</td>\n",
       "      <td>2023-02-23</td>\n",
       "      <td>jack_quartic</td>\n",
       "      <td>2023-02-23</td>\n",
       "      <td>{E4CDF267-E4EC-453E-8D3C-18FC294D38AE}</td>\n",
       "      <td>CV</td>\n",
       "      <td>0</td>\n",
       "      <td>NaN</td>\n",
       "      <td>NaN</td>\n",
       "      <td>NaN</td>\n",
       "      <td>POLYGON Z ((6351603.136 1816566.962 0.000, 635...</td>\n",
       "    </tr>\n",
       "  </tbody>\n",
       "</table>\n",
       "</div>"
      ],
      "text/plain": [
       "          Name     CREATEDBY  CREATEDDAT     UPDATEDBY  UPDATEDATE  \\\n",
       "0  S.D. COUNTY  jack_quartic  2023-02-23  jack_quartic  2023-02-23   \n",
       "1  S.D. COUNTY  jack_quartic  2023-02-23  jack_quartic  2023-02-23   \n",
       "2  S.D. COUNTY  jack_quartic  2023-02-23  jack_quartic  2023-02-23   \n",
       "3  S.D. COUNTY  jack_quartic  2023-02-23  jack_quartic  2023-02-23   \n",
       "4  CHULA VISTA  jack_quartic  2023-02-23  jack_quartic  2023-02-23   \n",
       "\n",
       "                                 GlobalID CODE  DOCYR  DOCNO  DOCDATE  \\\n",
       "0  {E234DEDF-422D-47A8-9675-0E2DCD28472C}   CN      0    NaN      NaN   \n",
       "1  {ED8EFB65-5A1F-49DB-B2C0-1019E1E0C7A2}   CN      0    NaN      NaN   \n",
       "2  {9EA26A12-FAE2-4864-A12C-103E725080EF}   CN      0    NaN      NaN   \n",
       "3  {56545335-9C58-457B-9BB0-12E52EC467E1}   CN      0    NaN      NaN   \n",
       "4  {E4CDF267-E4EC-453E-8D3C-18FC294D38AE}   CV      0    NaN      NaN   \n",
       "\n",
       "   SUBJECT                                           geometry  \n",
       "0      NaN  POLYGON Z ((6306225.532 2001183.889 0.000, 630...  \n",
       "1      NaN  POLYGON Z ((6312037.154 1980895.609 0.000, 631...  \n",
       "2      NaN  POLYGON Z ((6307940.840 2003069.592 0.000, 630...  \n",
       "3      NaN  POLYGON Z ((6299707.002 2000270.162 0.000, 629...  \n",
       "4      NaN  POLYGON Z ((6351603.136 1816566.962 0.000, 635...  "
      ]
     },
     "execution_count": 11,
     "metadata": {},
     "output_type": "execute_result"
    }
   ],
   "source": [
    "import geopandas as gpd\n",
    "\n",
    "df = gpd.read_file('Municipal_Boundaries/MUNICIPAL_BOUNDARIES.shp')\n",
    "df.head()"
   ]
  },
  {
   "cell_type": "code",
   "execution_count": 12,
   "metadata": {},
   "outputs": [
    {
     "data": {
      "text/plain": [
       "array(['S.D. COUNTY', 'CHULA VISTA', 'CORONADO', 'SAN MARCOS',\n",
       "       'SAN DIEGO', 'POWAY', 'LEMON GROVE', 'LA MESA', 'VISTA',\n",
       "       'ENCINITAS', 'DEL MAR', 'CARLSBAD', 'NATIONAL CITY',\n",
       "       'IMPERIAL BEACH', 'ESCONDIDO', 'OCEANSIDE', 'SOLANA BEACH',\n",
       "       'EL CAJON', 'SANTEE'], dtype=object)"
      ]
     },
     "execution_count": 12,
     "metadata": {},
     "output_type": "execute_result"
    }
   ],
   "source": [
    "df[\"Name\"].unique()"
   ]
  },
  {
   "cell_type": "code",
   "execution_count": 13,
   "metadata": {},
   "outputs": [],
   "source": [
    "cityDictionary = {\n",
    "    'City of Chula Vista': ['CHULA VISTA'],\n",
    "    'City of Coronado': ['CORONADO'] ,\n",
    "    'City of Carlsbad':['CARLSBAD'],\n",
    "    'City of Del Mar':['DEL MAR'],\n",
    "    'City of El Cajon':['EL CAJON'],\n",
    "    'City of Encinitas':['ENCINITAS'],\n",
    "    'City of Escondido':['ESCONDIDO'],\n",
    "    'City of La Mesa':['LA MESA'],\n",
    "    'City of Lemon Grove':['LEMON GROVE'],\n",
    "    'City of National City':['NATIONAL CITY'],\n",
    "    'City of Oceanside':['OCEANSIDE'],\n",
    "    'City of Poway':['POWAY'],\n",
    "    'City of San Diego':['SAN DIEGO'],\n",
    "    'City of Santee':['SANTEE'],\n",
    "    'City of San Marcos':['SAN MARCOS'],\n",
    "    'City of Vista':['VISTA'],\n",
    "    'County of San Diego': ['S.D. COUNTY'],\n",
    "    'City of Imperial Beach' : ['IMPERIAL BEACH'],\n",
    "    'City of Solana Beach' : ['SOLANA BEACH']\n",
    "    \n",
    "}"
   ]
  },
  {
   "cell_type": "code",
   "execution_count": 14,
   "metadata": {},
   "outputs": [],
   "source": [
    "def cityRenaming(col):\n",
    "    for i in range(len(col)):\n",
    "        cName = col[i]\n",
    "        for k,v in cityDictionary.items():\n",
    "            for dirtyCityName in v:\n",
    "                if cName == dirtyCityName:\n",
    "                    col[i] = k\n",
    "    \n",
    "    return col\n",
    "                    \n",
    "        "
   ]
  },
  {
   "cell_type": "code",
   "execution_count": 15,
   "metadata": {},
   "outputs": [
    {
     "name": "stderr",
     "output_type": "stream",
     "text": [
      "/var/folders/28/4fg2q17s7rn296k6g_md9qk80000gn/T/ipykernel_46370/353988582.py:7: SettingWithCopyWarning: \n",
      "A value is trying to be set on a copy of a slice from a DataFrame\n",
      "\n",
      "See the caveats in the documentation: https://pandas.pydata.org/pandas-docs/stable/user_guide/indexing.html#returning-a-view-versus-a-copy\n",
      "  col[i] = k\n"
     ]
    }
   ],
   "source": [
    "df['Name'] = cityRenaming(df['Name'])"
   ]
  },
  {
   "cell_type": "code",
   "execution_count": 16,
   "metadata": {},
   "outputs": [
    {
     "data": {
      "text/plain": [
       "array(['County of San Diego', 'City of Chula Vista', 'City of Coronado',\n",
       "       'City of San Marcos', 'City of San Diego', 'City of Poway',\n",
       "       'City of Lemon Grove', 'City of La Mesa', 'City of Vista',\n",
       "       'City of Encinitas', 'City of Del Mar', 'City of Carlsbad',\n",
       "       'City of National City', 'City of Imperial Beach',\n",
       "       'City of Escondido', 'City of Oceanside', 'City of Solana Beach',\n",
       "       'City of El Cajon', 'City of Santee'], dtype=object)"
      ]
     },
     "execution_count": 16,
     "metadata": {},
     "output_type": "execute_result"
    }
   ],
   "source": [
    "df[\"Name\"].unique()"
   ]
  },
  {
   "cell_type": "code",
   "execution_count": 18,
   "metadata": {},
   "outputs": [],
   "source": [
    "df.to_file('cleanedSDMunicipal_Boundaries.shp')  "
   ]
  },
  {
   "cell_type": "code",
   "execution_count": null,
   "metadata": {},
   "outputs": [],
   "source": []
  }
 ],
 "metadata": {
  "kernelspec": {
   "display_name": "Python 3 (ipykernel)",
   "language": "python",
   "name": "python3"
  },
  "language_info": {
   "codemirror_mode": {
    "name": "ipython",
    "version": 3
   },
   "file_extension": ".py",
   "mimetype": "text/x-python",
   "name": "python",
   "nbconvert_exporter": "python",
   "pygments_lexer": "ipython3",
   "version": "3.8.5"
  }
 },
 "nbformat": 4,
 "nbformat_minor": 4
}
